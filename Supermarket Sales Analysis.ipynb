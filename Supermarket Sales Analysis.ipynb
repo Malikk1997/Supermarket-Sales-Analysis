{
 "cells": [
  {
   "cell_type": "code",
   "execution_count": 1,
   "id": "ecd01adc",
   "metadata": {},
   "outputs": [
    {
     "name": "stderr",
     "output_type": "stream",
     "text": [
      "C:\\ProgramData\\Anaconda3\\lib\\site-packages\\scipy\\__init__.py:146: UserWarning: A NumPy version >=1.16.5 and <1.23.0 is required for this version of SciPy (detected version 1.24.3\n",
      "  warnings.warn(f\"A NumPy version >={np_minversion} and <{np_maxversion}\"\n"
     ]
    }
   ],
   "source": [
    "import numpy as np\n",
    "import pandas as pd\n",
    "import matplotlib.pyplot as plt\n",
    "import seaborn as sns\n",
    "import warnings\n",
    "warnings.filterwarnings(\"ignore\")"
   ]
  },
  {
   "cell_type": "code",
   "execution_count": 2,
   "id": "58e22092",
   "metadata": {},
   "outputs": [
    {
     "data": {
      "text/html": [
       "<div>\n",
       "<style scoped>\n",
       "    .dataframe tbody tr th:only-of-type {\n",
       "        vertical-align: middle;\n",
       "    }\n",
       "\n",
       "    .dataframe tbody tr th {\n",
       "        vertical-align: top;\n",
       "    }\n",
       "\n",
       "    .dataframe thead th {\n",
       "        text-align: right;\n",
       "    }\n",
       "</style>\n",
       "<table border=\"1\" class=\"dataframe\">\n",
       "  <thead>\n",
       "    <tr style=\"text-align: right;\">\n",
       "      <th></th>\n",
       "      <th>Item Code</th>\n",
       "      <th>Item Name</th>\n",
       "      <th>Category Code</th>\n",
       "      <th>Category Name</th>\n",
       "    </tr>\n",
       "  </thead>\n",
       "  <tbody>\n",
       "    <tr>\n",
       "      <th>0</th>\n",
       "      <td>102900005115168</td>\n",
       "      <td>Niushou Shengcai</td>\n",
       "      <td>1011010101</td>\n",
       "      <td>Flower/Leaf Vegetables</td>\n",
       "    </tr>\n",
       "    <tr>\n",
       "      <th>1</th>\n",
       "      <td>102900005115199</td>\n",
       "      <td>Sichuan Red Cedar</td>\n",
       "      <td>1011010101</td>\n",
       "      <td>Flower/Leaf Vegetables</td>\n",
       "    </tr>\n",
       "    <tr>\n",
       "      <th>2</th>\n",
       "      <td>102900005115625</td>\n",
       "      <td>Local Xiaomao Cabbage</td>\n",
       "      <td>1011010101</td>\n",
       "      <td>Flower/Leaf Vegetables</td>\n",
       "    </tr>\n",
       "    <tr>\n",
       "      <th>3</th>\n",
       "      <td>102900005115748</td>\n",
       "      <td>White Caitai</td>\n",
       "      <td>1011010101</td>\n",
       "      <td>Flower/Leaf Vegetables</td>\n",
       "    </tr>\n",
       "    <tr>\n",
       "      <th>4</th>\n",
       "      <td>102900005115762</td>\n",
       "      <td>Amaranth</td>\n",
       "      <td>1011010101</td>\n",
       "      <td>Flower/Leaf Vegetables</td>\n",
       "    </tr>\n",
       "  </tbody>\n",
       "</table>\n",
       "</div>"
      ],
      "text/plain": [
       "         Item Code              Item Name  Category Code  \\\n",
       "0  102900005115168       Niushou Shengcai     1011010101   \n",
       "1  102900005115199      Sichuan Red Cedar     1011010101   \n",
       "2  102900005115625  Local Xiaomao Cabbage     1011010101   \n",
       "3  102900005115748           White Caitai     1011010101   \n",
       "4  102900005115762               Amaranth     1011010101   \n",
       "\n",
       "            Category Name  \n",
       "0  Flower/Leaf Vegetables  \n",
       "1  Flower/Leaf Vegetables  \n",
       "2  Flower/Leaf Vegetables  \n",
       "3  Flower/Leaf Vegetables  \n",
       "4  Flower/Leaf Vegetables  "
      ]
     },
     "execution_count": 2,
     "metadata": {},
     "output_type": "execute_result"
    }
   ],
   "source": [
    "df=pd.read_csv(\"annex1.csv\")\n",
    "df.head()"
   ]
  },
  {
   "cell_type": "code",
   "execution_count": 3,
   "id": "058568d4",
   "metadata": {},
   "outputs": [
    {
     "data": {
      "text/html": [
       "<div>\n",
       "<style scoped>\n",
       "    .dataframe tbody tr th:only-of-type {\n",
       "        vertical-align: middle;\n",
       "    }\n",
       "\n",
       "    .dataframe tbody tr th {\n",
       "        vertical-align: top;\n",
       "    }\n",
       "\n",
       "    .dataframe thead th {\n",
       "        text-align: right;\n",
       "    }\n",
       "</style>\n",
       "<table border=\"1\" class=\"dataframe\">\n",
       "  <thead>\n",
       "    <tr style=\"text-align: right;\">\n",
       "      <th></th>\n",
       "      <th>Date</th>\n",
       "      <th>Time</th>\n",
       "      <th>Item Code</th>\n",
       "      <th>Quantity Sold (kilo)</th>\n",
       "      <th>Unit Selling Price (RMB/kg)</th>\n",
       "      <th>Sale or Return</th>\n",
       "      <th>Discount (Yes/No)</th>\n",
       "    </tr>\n",
       "  </thead>\n",
       "  <tbody>\n",
       "    <tr>\n",
       "      <th>0</th>\n",
       "      <td>2020-07-01</td>\n",
       "      <td>09:15:07.924</td>\n",
       "      <td>102900005117056</td>\n",
       "      <td>0.396</td>\n",
       "      <td>7.6</td>\n",
       "      <td>sale</td>\n",
       "      <td>No</td>\n",
       "    </tr>\n",
       "    <tr>\n",
       "      <th>1</th>\n",
       "      <td>2020-07-01</td>\n",
       "      <td>09:17:27.295</td>\n",
       "      <td>102900005115960</td>\n",
       "      <td>0.849</td>\n",
       "      <td>3.2</td>\n",
       "      <td>sale</td>\n",
       "      <td>No</td>\n",
       "    </tr>\n",
       "    <tr>\n",
       "      <th>2</th>\n",
       "      <td>2020-07-01</td>\n",
       "      <td>09:17:33.905</td>\n",
       "      <td>102900005117056</td>\n",
       "      <td>0.409</td>\n",
       "      <td>7.6</td>\n",
       "      <td>sale</td>\n",
       "      <td>No</td>\n",
       "    </tr>\n",
       "    <tr>\n",
       "      <th>3</th>\n",
       "      <td>2020-07-01</td>\n",
       "      <td>09:19:45.450</td>\n",
       "      <td>102900005115823</td>\n",
       "      <td>0.421</td>\n",
       "      <td>10.0</td>\n",
       "      <td>sale</td>\n",
       "      <td>No</td>\n",
       "    </tr>\n",
       "    <tr>\n",
       "      <th>4</th>\n",
       "      <td>2020-07-01</td>\n",
       "      <td>09:20:23.686</td>\n",
       "      <td>102900005115908</td>\n",
       "      <td>0.539</td>\n",
       "      <td>8.0</td>\n",
       "      <td>sale</td>\n",
       "      <td>No</td>\n",
       "    </tr>\n",
       "  </tbody>\n",
       "</table>\n",
       "</div>"
      ],
      "text/plain": [
       "         Date          Time        Item Code  Quantity Sold (kilo)  \\\n",
       "0  2020-07-01  09:15:07.924  102900005117056                 0.396   \n",
       "1  2020-07-01  09:17:27.295  102900005115960                 0.849   \n",
       "2  2020-07-01  09:17:33.905  102900005117056                 0.409   \n",
       "3  2020-07-01  09:19:45.450  102900005115823                 0.421   \n",
       "4  2020-07-01  09:20:23.686  102900005115908                 0.539   \n",
       "\n",
       "   Unit Selling Price (RMB/kg) Sale or Return Discount (Yes/No)  \n",
       "0                          7.6           sale                No  \n",
       "1                          3.2           sale                No  \n",
       "2                          7.6           sale                No  \n",
       "3                         10.0           sale                No  \n",
       "4                          8.0           sale                No  "
      ]
     },
     "execution_count": 3,
     "metadata": {},
     "output_type": "execute_result"
    }
   ],
   "source": [
    "df1=pd.read_csv(\"annex2.csv\")\n",
    "df1.head()"
   ]
  },
  {
   "cell_type": "code",
   "execution_count": 4,
   "id": "224ecacb",
   "metadata": {},
   "outputs": [
    {
     "data": {
      "text/html": [
       "<div>\n",
       "<style scoped>\n",
       "    .dataframe tbody tr th:only-of-type {\n",
       "        vertical-align: middle;\n",
       "    }\n",
       "\n",
       "    .dataframe tbody tr th {\n",
       "        vertical-align: top;\n",
       "    }\n",
       "\n",
       "    .dataframe thead th {\n",
       "        text-align: right;\n",
       "    }\n",
       "</style>\n",
       "<table border=\"1\" class=\"dataframe\">\n",
       "  <thead>\n",
       "    <tr style=\"text-align: right;\">\n",
       "      <th></th>\n",
       "      <th>Item Code</th>\n",
       "      <th>Item Name</th>\n",
       "      <th>Category Code</th>\n",
       "      <th>Category Name</th>\n",
       "      <th>Date</th>\n",
       "      <th>Time</th>\n",
       "      <th>Quantity Sold (kilo)</th>\n",
       "      <th>Unit Selling Price (RMB/kg)</th>\n",
       "      <th>Sale or Return</th>\n",
       "      <th>Discount (Yes/No)</th>\n",
       "    </tr>\n",
       "  </thead>\n",
       "  <tbody>\n",
       "    <tr>\n",
       "      <th>0</th>\n",
       "      <td>102900005115168</td>\n",
       "      <td>Niushou Shengcai</td>\n",
       "      <td>1011010101</td>\n",
       "      <td>Flower/Leaf Vegetables</td>\n",
       "      <td>2020-10-30</td>\n",
       "      <td>10:02:13.748</td>\n",
       "      <td>0.743</td>\n",
       "      <td>5.0</td>\n",
       "      <td>sale</td>\n",
       "      <td>No</td>\n",
       "    </tr>\n",
       "    <tr>\n",
       "      <th>1</th>\n",
       "      <td>102900005115168</td>\n",
       "      <td>Niushou Shengcai</td>\n",
       "      <td>1011010101</td>\n",
       "      <td>Flower/Leaf Vegetables</td>\n",
       "      <td>2020-10-30</td>\n",
       "      <td>10:48:42.707</td>\n",
       "      <td>0.502</td>\n",
       "      <td>5.0</td>\n",
       "      <td>sale</td>\n",
       "      <td>No</td>\n",
       "    </tr>\n",
       "    <tr>\n",
       "      <th>2</th>\n",
       "      <td>102900005115168</td>\n",
       "      <td>Niushou Shengcai</td>\n",
       "      <td>1011010101</td>\n",
       "      <td>Flower/Leaf Vegetables</td>\n",
       "      <td>2020-10-30</td>\n",
       "      <td>11:10:13.023</td>\n",
       "      <td>0.301</td>\n",
       "      <td>5.0</td>\n",
       "      <td>sale</td>\n",
       "      <td>No</td>\n",
       "    </tr>\n",
       "    <tr>\n",
       "      <th>3</th>\n",
       "      <td>102900005115168</td>\n",
       "      <td>Niushou Shengcai</td>\n",
       "      <td>1011010101</td>\n",
       "      <td>Flower/Leaf Vegetables</td>\n",
       "      <td>2020-10-30</td>\n",
       "      <td>12:34:32.084</td>\n",
       "      <td>0.382</td>\n",
       "      <td>5.0</td>\n",
       "      <td>sale</td>\n",
       "      <td>No</td>\n",
       "    </tr>\n",
       "    <tr>\n",
       "      <th>4</th>\n",
       "      <td>102900005115168</td>\n",
       "      <td>Niushou Shengcai</td>\n",
       "      <td>1011010101</td>\n",
       "      <td>Flower/Leaf Vegetables</td>\n",
       "      <td>2020-10-30</td>\n",
       "      <td>13:33:59.748</td>\n",
       "      <td>0.261</td>\n",
       "      <td>5.0</td>\n",
       "      <td>sale</td>\n",
       "      <td>No</td>\n",
       "    </tr>\n",
       "  </tbody>\n",
       "</table>\n",
       "</div>"
      ],
      "text/plain": [
       "         Item Code         Item Name  Category Code           Category Name  \\\n",
       "0  102900005115168  Niushou Shengcai     1011010101  Flower/Leaf Vegetables   \n",
       "1  102900005115168  Niushou Shengcai     1011010101  Flower/Leaf Vegetables   \n",
       "2  102900005115168  Niushou Shengcai     1011010101  Flower/Leaf Vegetables   \n",
       "3  102900005115168  Niushou Shengcai     1011010101  Flower/Leaf Vegetables   \n",
       "4  102900005115168  Niushou Shengcai     1011010101  Flower/Leaf Vegetables   \n",
       "\n",
       "         Date          Time  Quantity Sold (kilo)  \\\n",
       "0  2020-10-30  10:02:13.748                 0.743   \n",
       "1  2020-10-30  10:48:42.707                 0.502   \n",
       "2  2020-10-30  11:10:13.023                 0.301   \n",
       "3  2020-10-30  12:34:32.084                 0.382   \n",
       "4  2020-10-30  13:33:59.748                 0.261   \n",
       "\n",
       "   Unit Selling Price (RMB/kg) Sale or Return Discount (Yes/No)  \n",
       "0                          5.0           sale                No  \n",
       "1                          5.0           sale                No  \n",
       "2                          5.0           sale                No  \n",
       "3                          5.0           sale                No  \n",
       "4                          5.0           sale                No  "
      ]
     },
     "execution_count": 4,
     "metadata": {},
     "output_type": "execute_result"
    }
   ],
   "source": [
    "df2=pd.merge(df,df1,on=\"Item Code\")\n",
    "df2.head()"
   ]
  },
  {
   "cell_type": "code",
   "execution_count": 5,
   "id": "433e373e",
   "metadata": {},
   "outputs": [
    {
     "name": "stdout",
     "output_type": "stream",
     "text": [
      "<class 'pandas.core.frame.DataFrame'>\n",
      "Int64Index: 878503 entries, 0 to 878502\n",
      "Data columns (total 10 columns):\n",
      " #   Column                       Non-Null Count   Dtype  \n",
      "---  ------                       --------------   -----  \n",
      " 0   Item Code                    878503 non-null  int64  \n",
      " 1   Item Name                    878503 non-null  object \n",
      " 2   Category Code                878503 non-null  int64  \n",
      " 3   Category Name                878503 non-null  object \n",
      " 4   Date                         878503 non-null  object \n",
      " 5   Time                         878503 non-null  object \n",
      " 6   Quantity Sold (kilo)         878503 non-null  float64\n",
      " 7   Unit Selling Price (RMB/kg)  878503 non-null  float64\n",
      " 8   Sale or Return               878503 non-null  object \n",
      " 9   Discount (Yes/No)            878503 non-null  object \n",
      "dtypes: float64(2), int64(2), object(6)\n",
      "memory usage: 73.7+ MB\n"
     ]
    }
   ],
   "source": [
    "df2.info()"
   ]
  },
  {
   "cell_type": "code",
   "execution_count": 6,
   "id": "c18b4f6b",
   "metadata": {},
   "outputs": [
    {
     "data": {
      "text/html": [
       "<div>\n",
       "<style scoped>\n",
       "    .dataframe tbody tr th:only-of-type {\n",
       "        vertical-align: middle;\n",
       "    }\n",
       "\n",
       "    .dataframe tbody tr th {\n",
       "        vertical-align: top;\n",
       "    }\n",
       "\n",
       "    .dataframe thead th {\n",
       "        text-align: right;\n",
       "    }\n",
       "</style>\n",
       "<table border=\"1\" class=\"dataframe\">\n",
       "  <thead>\n",
       "    <tr style=\"text-align: right;\">\n",
       "      <th></th>\n",
       "      <th>Item Code</th>\n",
       "      <th>Category Code</th>\n",
       "      <th>Quantity Sold (kilo)</th>\n",
       "      <th>Unit Selling Price (RMB/kg)</th>\n",
       "    </tr>\n",
       "  </thead>\n",
       "  <tbody>\n",
       "    <tr>\n",
       "      <th>count</th>\n",
       "      <td>8.785030e+05</td>\n",
       "      <td>8.785030e+05</td>\n",
       "      <td>878503.000000</td>\n",
       "      <td>878503.000000</td>\n",
       "    </tr>\n",
       "    <tr>\n",
       "      <th>mean</th>\n",
       "      <td>1.030313e+14</td>\n",
       "      <td>1.011010e+09</td>\n",
       "      <td>0.536112</td>\n",
       "      <td>8.917144</td>\n",
       "    </tr>\n",
       "    <tr>\n",
       "      <th>std</th>\n",
       "      <td>7.174368e+11</td>\n",
       "      <td>2.582929e+02</td>\n",
       "      <td>0.400087</td>\n",
       "      <td>6.311265</td>\n",
       "    </tr>\n",
       "    <tr>\n",
       "      <th>min</th>\n",
       "      <td>1.029000e+14</td>\n",
       "      <td>1.011010e+09</td>\n",
       "      <td>-9.082000</td>\n",
       "      <td>0.100000</td>\n",
       "    </tr>\n",
       "    <tr>\n",
       "      <th>25%</th>\n",
       "      <td>1.029000e+14</td>\n",
       "      <td>1.011010e+09</td>\n",
       "      <td>0.290000</td>\n",
       "      <td>4.900000</td>\n",
       "    </tr>\n",
       "    <tr>\n",
       "      <th>50%</th>\n",
       "      <td>1.029000e+14</td>\n",
       "      <td>1.011010e+09</td>\n",
       "      <td>0.435000</td>\n",
       "      <td>7.900000</td>\n",
       "    </tr>\n",
       "    <tr>\n",
       "      <th>75%</th>\n",
       "      <td>1.029000e+14</td>\n",
       "      <td>1.011011e+09</td>\n",
       "      <td>0.742000</td>\n",
       "      <td>10.800000</td>\n",
       "    </tr>\n",
       "    <tr>\n",
       "      <th>max</th>\n",
       "      <td>1.069740e+14</td>\n",
       "      <td>1.011011e+09</td>\n",
       "      <td>160.000000</td>\n",
       "      <td>119.900000</td>\n",
       "    </tr>\n",
       "  </tbody>\n",
       "</table>\n",
       "</div>"
      ],
      "text/plain": [
       "          Item Code  Category Code  Quantity Sold (kilo)  \\\n",
       "count  8.785030e+05   8.785030e+05         878503.000000   \n",
       "mean   1.030313e+14   1.011010e+09              0.536112   \n",
       "std    7.174368e+11   2.582929e+02              0.400087   \n",
       "min    1.029000e+14   1.011010e+09             -9.082000   \n",
       "25%    1.029000e+14   1.011010e+09              0.290000   \n",
       "50%    1.029000e+14   1.011010e+09              0.435000   \n",
       "75%    1.029000e+14   1.011011e+09              0.742000   \n",
       "max    1.069740e+14   1.011011e+09            160.000000   \n",
       "\n",
       "       Unit Selling Price (RMB/kg)  \n",
       "count                878503.000000  \n",
       "mean                      8.917144  \n",
       "std                       6.311265  \n",
       "min                       0.100000  \n",
       "25%                       4.900000  \n",
       "50%                       7.900000  \n",
       "75%                      10.800000  \n",
       "max                     119.900000  "
      ]
     },
     "execution_count": 6,
     "metadata": {},
     "output_type": "execute_result"
    }
   ],
   "source": [
    "df2.describe()"
   ]
  },
  {
   "cell_type": "code",
   "execution_count": 7,
   "id": "a4ead64b",
   "metadata": {},
   "outputs": [
    {
     "data": {
      "text/html": [
       "<div>\n",
       "<style scoped>\n",
       "    .dataframe tbody tr th:only-of-type {\n",
       "        vertical-align: middle;\n",
       "    }\n",
       "\n",
       "    .dataframe tbody tr th {\n",
       "        vertical-align: top;\n",
       "    }\n",
       "\n",
       "    .dataframe thead th {\n",
       "        text-align: right;\n",
       "    }\n",
       "</style>\n",
       "<table border=\"1\" class=\"dataframe\">\n",
       "  <thead>\n",
       "    <tr style=\"text-align: right;\">\n",
       "      <th></th>\n",
       "      <th>Item Code</th>\n",
       "      <th>Item Name</th>\n",
       "      <th>Category Code</th>\n",
       "      <th>Category Name</th>\n",
       "      <th>Date</th>\n",
       "      <th>Time</th>\n",
       "      <th>Quantity Sold (kilo)</th>\n",
       "      <th>Unit Selling Price (RMB/kg)</th>\n",
       "      <th>Sale or Return</th>\n",
       "      <th>Discount (Yes/No)</th>\n",
       "    </tr>\n",
       "  </thead>\n",
       "  <tbody>\n",
       "    <tr>\n",
       "      <th>0</th>\n",
       "      <td>102900005115168</td>\n",
       "      <td>Niushou Shengcai</td>\n",
       "      <td>1011010101</td>\n",
       "      <td>Flower/Leaf Vegetables</td>\n",
       "      <td>2020-10-30</td>\n",
       "      <td>10:02:13.748</td>\n",
       "      <td>0.743</td>\n",
       "      <td>5.0</td>\n",
       "      <td>sale</td>\n",
       "      <td>No</td>\n",
       "    </tr>\n",
       "    <tr>\n",
       "      <th>1</th>\n",
       "      <td>102900005115168</td>\n",
       "      <td>Niushou Shengcai</td>\n",
       "      <td>1011010101</td>\n",
       "      <td>Flower/Leaf Vegetables</td>\n",
       "      <td>2020-10-30</td>\n",
       "      <td>10:48:42.707</td>\n",
       "      <td>0.502</td>\n",
       "      <td>5.0</td>\n",
       "      <td>sale</td>\n",
       "      <td>No</td>\n",
       "    </tr>\n",
       "    <tr>\n",
       "      <th>2</th>\n",
       "      <td>102900005115168</td>\n",
       "      <td>Niushou Shengcai</td>\n",
       "      <td>1011010101</td>\n",
       "      <td>Flower/Leaf Vegetables</td>\n",
       "      <td>2020-10-30</td>\n",
       "      <td>11:10:13.023</td>\n",
       "      <td>0.301</td>\n",
       "      <td>5.0</td>\n",
       "      <td>sale</td>\n",
       "      <td>No</td>\n",
       "    </tr>\n",
       "    <tr>\n",
       "      <th>3</th>\n",
       "      <td>102900005115168</td>\n",
       "      <td>Niushou Shengcai</td>\n",
       "      <td>1011010101</td>\n",
       "      <td>Flower/Leaf Vegetables</td>\n",
       "      <td>2020-10-30</td>\n",
       "      <td>12:34:32.084</td>\n",
       "      <td>0.382</td>\n",
       "      <td>5.0</td>\n",
       "      <td>sale</td>\n",
       "      <td>No</td>\n",
       "    </tr>\n",
       "    <tr>\n",
       "      <th>4</th>\n",
       "      <td>102900005115168</td>\n",
       "      <td>Niushou Shengcai</td>\n",
       "      <td>1011010101</td>\n",
       "      <td>Flower/Leaf Vegetables</td>\n",
       "      <td>2020-10-30</td>\n",
       "      <td>13:33:59.748</td>\n",
       "      <td>0.261</td>\n",
       "      <td>5.0</td>\n",
       "      <td>sale</td>\n",
       "      <td>No</td>\n",
       "    </tr>\n",
       "  </tbody>\n",
       "</table>\n",
       "</div>"
      ],
      "text/plain": [
       "         Item Code         Item Name  Category Code           Category Name  \\\n",
       "0  102900005115168  Niushou Shengcai     1011010101  Flower/Leaf Vegetables   \n",
       "1  102900005115168  Niushou Shengcai     1011010101  Flower/Leaf Vegetables   \n",
       "2  102900005115168  Niushou Shengcai     1011010101  Flower/Leaf Vegetables   \n",
       "3  102900005115168  Niushou Shengcai     1011010101  Flower/Leaf Vegetables   \n",
       "4  102900005115168  Niushou Shengcai     1011010101  Flower/Leaf Vegetables   \n",
       "\n",
       "        Date          Time  Quantity Sold (kilo)  Unit Selling Price (RMB/kg)  \\\n",
       "0 2020-10-30  10:02:13.748                 0.743                          5.0   \n",
       "1 2020-10-30  10:48:42.707                 0.502                          5.0   \n",
       "2 2020-10-30  11:10:13.023                 0.301                          5.0   \n",
       "3 2020-10-30  12:34:32.084                 0.382                          5.0   \n",
       "4 2020-10-30  13:33:59.748                 0.261                          5.0   \n",
       "\n",
       "  Sale or Return Discount (Yes/No)  \n",
       "0           sale                No  \n",
       "1           sale                No  \n",
       "2           sale                No  \n",
       "3           sale                No  \n",
       "4           sale                No  "
      ]
     },
     "execution_count": 7,
     "metadata": {},
     "output_type": "execute_result"
    }
   ],
   "source": [
    "df2[\"Date\"]=pd.to_datetime(df2[\"Date\"])\n",
    "\n",
    "df2.head()"
   ]
  },
  {
   "cell_type": "code",
   "execution_count": 8,
   "id": "b3dd7ca0",
   "metadata": {},
   "outputs": [
    {
     "data": {
      "text/html": [
       "<div>\n",
       "<style scoped>\n",
       "    .dataframe tbody tr th:only-of-type {\n",
       "        vertical-align: middle;\n",
       "    }\n",
       "\n",
       "    .dataframe tbody tr th {\n",
       "        vertical-align: top;\n",
       "    }\n",
       "\n",
       "    .dataframe thead th {\n",
       "        text-align: right;\n",
       "    }\n",
       "</style>\n",
       "<table border=\"1\" class=\"dataframe\">\n",
       "  <thead>\n",
       "    <tr style=\"text-align: right;\">\n",
       "      <th></th>\n",
       "      <th>Item Code</th>\n",
       "      <th>Item Name</th>\n",
       "      <th>Category Code</th>\n",
       "      <th>Category Name</th>\n",
       "      <th>Date</th>\n",
       "      <th>Time</th>\n",
       "      <th>Quantity Sold (kilo)</th>\n",
       "      <th>Unit Selling Price (RMB/kg)</th>\n",
       "      <th>Sale or Return</th>\n",
       "      <th>Discount (Yes/No)</th>\n",
       "    </tr>\n",
       "  </thead>\n",
       "  <tbody>\n",
       "    <tr>\n",
       "      <th>0</th>\n",
       "      <td>102900005115168</td>\n",
       "      <td>Niushou Shengcai</td>\n",
       "      <td>1011010101</td>\n",
       "      <td>Flower/Leaf Vegetables</td>\n",
       "      <td>2020-10-30</td>\n",
       "      <td>2023-09-30 10:02:13.748</td>\n",
       "      <td>0.743</td>\n",
       "      <td>5.0</td>\n",
       "      <td>sale</td>\n",
       "      <td>No</td>\n",
       "    </tr>\n",
       "    <tr>\n",
       "      <th>1</th>\n",
       "      <td>102900005115168</td>\n",
       "      <td>Niushou Shengcai</td>\n",
       "      <td>1011010101</td>\n",
       "      <td>Flower/Leaf Vegetables</td>\n",
       "      <td>2020-10-30</td>\n",
       "      <td>2023-09-30 10:48:42.707</td>\n",
       "      <td>0.502</td>\n",
       "      <td>5.0</td>\n",
       "      <td>sale</td>\n",
       "      <td>No</td>\n",
       "    </tr>\n",
       "    <tr>\n",
       "      <th>2</th>\n",
       "      <td>102900005115168</td>\n",
       "      <td>Niushou Shengcai</td>\n",
       "      <td>1011010101</td>\n",
       "      <td>Flower/Leaf Vegetables</td>\n",
       "      <td>2020-10-30</td>\n",
       "      <td>2023-09-30 11:10:13.023</td>\n",
       "      <td>0.301</td>\n",
       "      <td>5.0</td>\n",
       "      <td>sale</td>\n",
       "      <td>No</td>\n",
       "    </tr>\n",
       "    <tr>\n",
       "      <th>3</th>\n",
       "      <td>102900005115168</td>\n",
       "      <td>Niushou Shengcai</td>\n",
       "      <td>1011010101</td>\n",
       "      <td>Flower/Leaf Vegetables</td>\n",
       "      <td>2020-10-30</td>\n",
       "      <td>2023-09-30 12:34:32.084</td>\n",
       "      <td>0.382</td>\n",
       "      <td>5.0</td>\n",
       "      <td>sale</td>\n",
       "      <td>No</td>\n",
       "    </tr>\n",
       "    <tr>\n",
       "      <th>4</th>\n",
       "      <td>102900005115168</td>\n",
       "      <td>Niushou Shengcai</td>\n",
       "      <td>1011010101</td>\n",
       "      <td>Flower/Leaf Vegetables</td>\n",
       "      <td>2020-10-30</td>\n",
       "      <td>2023-09-30 13:33:59.748</td>\n",
       "      <td>0.261</td>\n",
       "      <td>5.0</td>\n",
       "      <td>sale</td>\n",
       "      <td>No</td>\n",
       "    </tr>\n",
       "  </tbody>\n",
       "</table>\n",
       "</div>"
      ],
      "text/plain": [
       "         Item Code         Item Name  Category Code           Category Name  \\\n",
       "0  102900005115168  Niushou Shengcai     1011010101  Flower/Leaf Vegetables   \n",
       "1  102900005115168  Niushou Shengcai     1011010101  Flower/Leaf Vegetables   \n",
       "2  102900005115168  Niushou Shengcai     1011010101  Flower/Leaf Vegetables   \n",
       "3  102900005115168  Niushou Shengcai     1011010101  Flower/Leaf Vegetables   \n",
       "4  102900005115168  Niushou Shengcai     1011010101  Flower/Leaf Vegetables   \n",
       "\n",
       "        Date                    Time  Quantity Sold (kilo)  \\\n",
       "0 2020-10-30 2023-09-30 10:02:13.748                 0.743   \n",
       "1 2020-10-30 2023-09-30 10:48:42.707                 0.502   \n",
       "2 2020-10-30 2023-09-30 11:10:13.023                 0.301   \n",
       "3 2020-10-30 2023-09-30 12:34:32.084                 0.382   \n",
       "4 2020-10-30 2023-09-30 13:33:59.748                 0.261   \n",
       "\n",
       "   Unit Selling Price (RMB/kg) Sale or Return Discount (Yes/No)  \n",
       "0                          5.0           sale                No  \n",
       "1                          5.0           sale                No  \n",
       "2                          5.0           sale                No  \n",
       "3                          5.0           sale                No  \n",
       "4                          5.0           sale                No  "
      ]
     },
     "execution_count": 8,
     "metadata": {},
     "output_type": "execute_result"
    }
   ],
   "source": [
    "df2[\"Time\"]=pd.to_datetime(df2[\"Time\"])\n",
    "df2.head()"
   ]
  },
  {
   "cell_type": "code",
   "execution_count": 9,
   "id": "ea3ff011",
   "metadata": {},
   "outputs": [
    {
     "name": "stdout",
     "output_type": "stream",
     "text": [
      "<class 'pandas.core.frame.DataFrame'>\n",
      "Int64Index: 878503 entries, 0 to 878502\n",
      "Data columns (total 10 columns):\n",
      " #   Column                       Non-Null Count   Dtype         \n",
      "---  ------                       --------------   -----         \n",
      " 0   Item Code                    878503 non-null  int64         \n",
      " 1   Item Name                    878503 non-null  object        \n",
      " 2   Category Code                878503 non-null  int64         \n",
      " 3   Category Name                878503 non-null  object        \n",
      " 4   Date                         878503 non-null  datetime64[ns]\n",
      " 5   Time                         878503 non-null  datetime64[ns]\n",
      " 6   Quantity Sold (kilo)         878503 non-null  float64       \n",
      " 7   Unit Selling Price (RMB/kg)  878503 non-null  float64       \n",
      " 8   Sale or Return               878503 non-null  object        \n",
      " 9   Discount (Yes/No)            878503 non-null  object        \n",
      "dtypes: datetime64[ns](2), float64(2), int64(2), object(4)\n",
      "memory usage: 73.7+ MB\n"
     ]
    }
   ],
   "source": [
    "df2.info()"
   ]
  },
  {
   "cell_type": "code",
   "execution_count": 10,
   "id": "2b304721",
   "metadata": {},
   "outputs": [],
   "source": [
    "df2['Time'] = df2['Time'].dt.strftime('%H:%M')"
   ]
  },
  {
   "cell_type": "code",
   "execution_count": 11,
   "id": "6ca8d5a5",
   "metadata": {},
   "outputs": [
    {
     "data": {
      "text/html": [
       "<div>\n",
       "<style scoped>\n",
       "    .dataframe tbody tr th:only-of-type {\n",
       "        vertical-align: middle;\n",
       "    }\n",
       "\n",
       "    .dataframe tbody tr th {\n",
       "        vertical-align: top;\n",
       "    }\n",
       "\n",
       "    .dataframe thead th {\n",
       "        text-align: right;\n",
       "    }\n",
       "</style>\n",
       "<table border=\"1\" class=\"dataframe\">\n",
       "  <thead>\n",
       "    <tr style=\"text-align: right;\">\n",
       "      <th></th>\n",
       "      <th>Item Code</th>\n",
       "      <th>Item Name</th>\n",
       "      <th>Category Code</th>\n",
       "      <th>Category Name</th>\n",
       "      <th>Date</th>\n",
       "      <th>Time</th>\n",
       "      <th>Quantity Sold (kilo)</th>\n",
       "      <th>Unit Selling Price (RMB/kg)</th>\n",
       "      <th>Sale or Return</th>\n",
       "      <th>Discount (Yes/No)</th>\n",
       "    </tr>\n",
       "  </thead>\n",
       "  <tbody>\n",
       "    <tr>\n",
       "      <th>0</th>\n",
       "      <td>102900005115168</td>\n",
       "      <td>Niushou Shengcai</td>\n",
       "      <td>1011010101</td>\n",
       "      <td>Flower/Leaf Vegetables</td>\n",
       "      <td>2020-10-30</td>\n",
       "      <td>10:02</td>\n",
       "      <td>0.743</td>\n",
       "      <td>5.0</td>\n",
       "      <td>sale</td>\n",
       "      <td>No</td>\n",
       "    </tr>\n",
       "    <tr>\n",
       "      <th>1</th>\n",
       "      <td>102900005115168</td>\n",
       "      <td>Niushou Shengcai</td>\n",
       "      <td>1011010101</td>\n",
       "      <td>Flower/Leaf Vegetables</td>\n",
       "      <td>2020-10-30</td>\n",
       "      <td>10:48</td>\n",
       "      <td>0.502</td>\n",
       "      <td>5.0</td>\n",
       "      <td>sale</td>\n",
       "      <td>No</td>\n",
       "    </tr>\n",
       "    <tr>\n",
       "      <th>2</th>\n",
       "      <td>102900005115168</td>\n",
       "      <td>Niushou Shengcai</td>\n",
       "      <td>1011010101</td>\n",
       "      <td>Flower/Leaf Vegetables</td>\n",
       "      <td>2020-10-30</td>\n",
       "      <td>11:10</td>\n",
       "      <td>0.301</td>\n",
       "      <td>5.0</td>\n",
       "      <td>sale</td>\n",
       "      <td>No</td>\n",
       "    </tr>\n",
       "    <tr>\n",
       "      <th>3</th>\n",
       "      <td>102900005115168</td>\n",
       "      <td>Niushou Shengcai</td>\n",
       "      <td>1011010101</td>\n",
       "      <td>Flower/Leaf Vegetables</td>\n",
       "      <td>2020-10-30</td>\n",
       "      <td>12:34</td>\n",
       "      <td>0.382</td>\n",
       "      <td>5.0</td>\n",
       "      <td>sale</td>\n",
       "      <td>No</td>\n",
       "    </tr>\n",
       "    <tr>\n",
       "      <th>4</th>\n",
       "      <td>102900005115168</td>\n",
       "      <td>Niushou Shengcai</td>\n",
       "      <td>1011010101</td>\n",
       "      <td>Flower/Leaf Vegetables</td>\n",
       "      <td>2020-10-30</td>\n",
       "      <td>13:33</td>\n",
       "      <td>0.261</td>\n",
       "      <td>5.0</td>\n",
       "      <td>sale</td>\n",
       "      <td>No</td>\n",
       "    </tr>\n",
       "  </tbody>\n",
       "</table>\n",
       "</div>"
      ],
      "text/plain": [
       "         Item Code         Item Name  Category Code           Category Name  \\\n",
       "0  102900005115168  Niushou Shengcai     1011010101  Flower/Leaf Vegetables   \n",
       "1  102900005115168  Niushou Shengcai     1011010101  Flower/Leaf Vegetables   \n",
       "2  102900005115168  Niushou Shengcai     1011010101  Flower/Leaf Vegetables   \n",
       "3  102900005115168  Niushou Shengcai     1011010101  Flower/Leaf Vegetables   \n",
       "4  102900005115168  Niushou Shengcai     1011010101  Flower/Leaf Vegetables   \n",
       "\n",
       "        Date   Time  Quantity Sold (kilo)  Unit Selling Price (RMB/kg)  \\\n",
       "0 2020-10-30  10:02                 0.743                          5.0   \n",
       "1 2020-10-30  10:48                 0.502                          5.0   \n",
       "2 2020-10-30  11:10                 0.301                          5.0   \n",
       "3 2020-10-30  12:34                 0.382                          5.0   \n",
       "4 2020-10-30  13:33                 0.261                          5.0   \n",
       "\n",
       "  Sale or Return Discount (Yes/No)  \n",
       "0           sale                No  \n",
       "1           sale                No  \n",
       "2           sale                No  \n",
       "3           sale                No  \n",
       "4           sale                No  "
      ]
     },
     "execution_count": 11,
     "metadata": {},
     "output_type": "execute_result"
    }
   ],
   "source": [
    "df2.head()"
   ]
  },
  {
   "cell_type": "code",
   "execution_count": 12,
   "id": "e11816bb",
   "metadata": {},
   "outputs": [],
   "source": [
    "df2=df2.rename(columns={\"Quantity Sold (kilo)\":\"Quantity Sold\",\"Category Name\":\"Category_name\",\"Unit Selling Price (RMB/kg)\":\"Unit Selling Price\",\"Discount (Yes/No)\":\"Discount\"})"
   ]
  },
  {
   "cell_type": "code",
   "execution_count": 13,
   "id": "cdd85bf7",
   "metadata": {},
   "outputs": [
    {
     "data": {
      "text/html": [
       "<div>\n",
       "<style scoped>\n",
       "    .dataframe tbody tr th:only-of-type {\n",
       "        vertical-align: middle;\n",
       "    }\n",
       "\n",
       "    .dataframe tbody tr th {\n",
       "        vertical-align: top;\n",
       "    }\n",
       "\n",
       "    .dataframe thead th {\n",
       "        text-align: right;\n",
       "    }\n",
       "</style>\n",
       "<table border=\"1\" class=\"dataframe\">\n",
       "  <thead>\n",
       "    <tr style=\"text-align: right;\">\n",
       "      <th></th>\n",
       "      <th>Item Code</th>\n",
       "      <th>Item Name</th>\n",
       "      <th>Category Code</th>\n",
       "      <th>Category_name</th>\n",
       "      <th>Date</th>\n",
       "      <th>Time</th>\n",
       "      <th>Quantity Sold</th>\n",
       "      <th>Unit Selling Price</th>\n",
       "      <th>Sale or Return</th>\n",
       "      <th>Discount</th>\n",
       "    </tr>\n",
       "  </thead>\n",
       "  <tbody>\n",
       "    <tr>\n",
       "      <th>0</th>\n",
       "      <td>102900005115168</td>\n",
       "      <td>Niushou Shengcai</td>\n",
       "      <td>1011010101</td>\n",
       "      <td>Flower/Leaf Vegetables</td>\n",
       "      <td>2020-10-30</td>\n",
       "      <td>10:02</td>\n",
       "      <td>0.743</td>\n",
       "      <td>5.0</td>\n",
       "      <td>sale</td>\n",
       "      <td>No</td>\n",
       "    </tr>\n",
       "    <tr>\n",
       "      <th>1</th>\n",
       "      <td>102900005115168</td>\n",
       "      <td>Niushou Shengcai</td>\n",
       "      <td>1011010101</td>\n",
       "      <td>Flower/Leaf Vegetables</td>\n",
       "      <td>2020-10-30</td>\n",
       "      <td>10:48</td>\n",
       "      <td>0.502</td>\n",
       "      <td>5.0</td>\n",
       "      <td>sale</td>\n",
       "      <td>No</td>\n",
       "    </tr>\n",
       "    <tr>\n",
       "      <th>2</th>\n",
       "      <td>102900005115168</td>\n",
       "      <td>Niushou Shengcai</td>\n",
       "      <td>1011010101</td>\n",
       "      <td>Flower/Leaf Vegetables</td>\n",
       "      <td>2020-10-30</td>\n",
       "      <td>11:10</td>\n",
       "      <td>0.301</td>\n",
       "      <td>5.0</td>\n",
       "      <td>sale</td>\n",
       "      <td>No</td>\n",
       "    </tr>\n",
       "    <tr>\n",
       "      <th>3</th>\n",
       "      <td>102900005115168</td>\n",
       "      <td>Niushou Shengcai</td>\n",
       "      <td>1011010101</td>\n",
       "      <td>Flower/Leaf Vegetables</td>\n",
       "      <td>2020-10-30</td>\n",
       "      <td>12:34</td>\n",
       "      <td>0.382</td>\n",
       "      <td>5.0</td>\n",
       "      <td>sale</td>\n",
       "      <td>No</td>\n",
       "    </tr>\n",
       "    <tr>\n",
       "      <th>4</th>\n",
       "      <td>102900005115168</td>\n",
       "      <td>Niushou Shengcai</td>\n",
       "      <td>1011010101</td>\n",
       "      <td>Flower/Leaf Vegetables</td>\n",
       "      <td>2020-10-30</td>\n",
       "      <td>13:33</td>\n",
       "      <td>0.261</td>\n",
       "      <td>5.0</td>\n",
       "      <td>sale</td>\n",
       "      <td>No</td>\n",
       "    </tr>\n",
       "  </tbody>\n",
       "</table>\n",
       "</div>"
      ],
      "text/plain": [
       "         Item Code         Item Name  Category Code           Category_name  \\\n",
       "0  102900005115168  Niushou Shengcai     1011010101  Flower/Leaf Vegetables   \n",
       "1  102900005115168  Niushou Shengcai     1011010101  Flower/Leaf Vegetables   \n",
       "2  102900005115168  Niushou Shengcai     1011010101  Flower/Leaf Vegetables   \n",
       "3  102900005115168  Niushou Shengcai     1011010101  Flower/Leaf Vegetables   \n",
       "4  102900005115168  Niushou Shengcai     1011010101  Flower/Leaf Vegetables   \n",
       "\n",
       "        Date   Time  Quantity Sold  Unit Selling Price Sale or Return Discount  \n",
       "0 2020-10-30  10:02          0.743                 5.0           sale       No  \n",
       "1 2020-10-30  10:48          0.502                 5.0           sale       No  \n",
       "2 2020-10-30  11:10          0.301                 5.0           sale       No  \n",
       "3 2020-10-30  12:34          0.382                 5.0           sale       No  \n",
       "4 2020-10-30  13:33          0.261                 5.0           sale       No  "
      ]
     },
     "execution_count": 13,
     "metadata": {},
     "output_type": "execute_result"
    }
   ],
   "source": [
    "df2.head()"
   ]
  },
  {
   "cell_type": "code",
   "execution_count": 14,
   "id": "37cea3a1",
   "metadata": {},
   "outputs": [
    {
     "data": {
      "text/plain": [
       "Flower/Leaf Vegetables         331968\n",
       "Capsicum                       207996\n",
       "Edible Mushroom                148424\n",
       "Cabbage                         86570\n",
       "Aquatic Tuberous Vegetables     58647\n",
       "Solanum                         44898\n",
       "Name: Category_name, dtype: int64"
      ]
     },
     "execution_count": 14,
     "metadata": {},
     "output_type": "execute_result"
    }
   ],
   "source": [
    "count=df2[\"Category_name\"].value_counts()\n",
    "count"
   ]
  },
  {
   "cell_type": "code",
   "execution_count": 15,
   "id": "25dd667c",
   "metadata": {},
   "outputs": [
    {
     "data": {
      "image/png": "[encoded data removed]",
      "text/plain": [
       "<Figure size 720x432 with 1 Axes>"
      ]
     },
     "metadata": {
      "needs_background": "light"
     },
     "output_type": "display_data"
    }
   ],
   "source": [
    "plt.figure(figsize=(10,6))\n",
    "colors=[\"red\",\"blue\",\"green\",\"yellow\",\"orange\",\"black\"]\n",
    "plt.bar(count.index,count.values,color=colors)\n",
    "plt.title(\"category count\")\n",
    "plt.xticks(rotation=90)\n",
    "plt.show()"
   ]
  },
  {
   "cell_type": "code",
   "execution_count": 16,
   "id": "46ad9375",
   "metadata": {},
   "outputs": [
    {
     "data": {
      "text/plain": [
       "Wuhu Green Pepper (1)    69945\n",
       "Broccoli                 58906\n",
       "Xixia Mushroom (1)       47509\n",
       "Yunnan Shengcai          39887\n",
       "Net Lotus Root (1)       39285\n",
       "Eggplant (2)             27455\n",
       "Paopaojiao (Jingpin)     25338\n",
       "Yunnan Lettuces          23265\n",
       "Luosi Pepper             22678\n",
       "Chinese Cabbage          19148\n",
       "Name: Item Name, dtype: int64"
      ]
     },
     "execution_count": 16,
     "metadata": {},
     "output_type": "execute_result"
    }
   ],
   "source": [
    "Top_products=df2[\"Item Name\"].value_counts()[:10]\n",
    "Top_products"
   ]
  },
  {
   "cell_type": "code",
   "execution_count": 17,
   "id": "25e2d54c",
   "metadata": {},
   "outputs": [
    {
     "data": {
      "text/plain": [
       "<function matplotlib.pyplot.show(close=None, block=None)>"
      ]
     },
     "execution_count": 17,
     "metadata": {},
     "output_type": "execute_result"
    },
    {
     "data": {
      "image/png": "[encoded data removed]",
      "text/plain": [
       "<Figure size 648x432 with 1 Axes>"
      ]
     },
     "metadata": {
      "needs_background": "light"
     },
     "output_type": "display_data"
    }
   ],
   "source": [
    "\n",
    "plt.figure(figsize=(9,6))\n",
    "colors=[\"red\",\"blue\",\"green\",\"yellow\",\"orange\",\"black\",\"brown\",\"violet\",\"pink\",\"gold\"]\n",
    "plt.bar(Top_products.index,Top_products.values,color=colors)\n",
    "plt.title(\"Top_10_products\")\n",
    "plt.xlabel(\"Item Name\")\n",
    "plt.ylabel(\"Item Quantity\")\n",
    "plt.xticks(rotation=90)\n",
    "plt.show"
   ]
  },
  {
   "cell_type": "code",
   "execution_count": 18,
   "id": "c38a40d2",
   "metadata": {},
   "outputs": [
    {
     "data": {
      "text/html": [
       "<div>\n",
       "<style scoped>\n",
       "    .dataframe tbody tr th:only-of-type {\n",
       "        vertical-align: middle;\n",
       "    }\n",
       "\n",
       "    .dataframe tbody tr th {\n",
       "        vertical-align: top;\n",
       "    }\n",
       "\n",
       "    .dataframe thead th {\n",
       "        text-align: right;\n",
       "    }\n",
       "</style>\n",
       "<table border=\"1\" class=\"dataframe\">\n",
       "  <thead>\n",
       "    <tr style=\"text-align: right;\">\n",
       "      <th></th>\n",
       "      <th>Item Code</th>\n",
       "      <th>Item Name</th>\n",
       "      <th>Category Code</th>\n",
       "      <th>Category_name</th>\n",
       "      <th>Date</th>\n",
       "      <th>Time</th>\n",
       "      <th>Quantity Sold</th>\n",
       "      <th>Unit Selling Price</th>\n",
       "      <th>Sale or Return</th>\n",
       "      <th>Discount</th>\n",
       "      <th>Sales</th>\n",
       "    </tr>\n",
       "  </thead>\n",
       "  <tbody>\n",
       "    <tr>\n",
       "      <th>0</th>\n",
       "      <td>102900005115168</td>\n",
       "      <td>Niushou Shengcai</td>\n",
       "      <td>1011010101</td>\n",
       "      <td>Flower/Leaf Vegetables</td>\n",
       "      <td>2020-10-30</td>\n",
       "      <td>10:02</td>\n",
       "      <td>0.743</td>\n",
       "      <td>5.0</td>\n",
       "      <td>sale</td>\n",
       "      <td>No</td>\n",
       "      <td>3.715</td>\n",
       "    </tr>\n",
       "    <tr>\n",
       "      <th>1</th>\n",
       "      <td>102900005115168</td>\n",
       "      <td>Niushou Shengcai</td>\n",
       "      <td>1011010101</td>\n",
       "      <td>Flower/Leaf Vegetables</td>\n",
       "      <td>2020-10-30</td>\n",
       "      <td>10:48</td>\n",
       "      <td>0.502</td>\n",
       "      <td>5.0</td>\n",
       "      <td>sale</td>\n",
       "      <td>No</td>\n",
       "      <td>2.510</td>\n",
       "    </tr>\n",
       "    <tr>\n",
       "      <th>2</th>\n",
       "      <td>102900005115168</td>\n",
       "      <td>Niushou Shengcai</td>\n",
       "      <td>1011010101</td>\n",
       "      <td>Flower/Leaf Vegetables</td>\n",
       "      <td>2020-10-30</td>\n",
       "      <td>11:10</td>\n",
       "      <td>0.301</td>\n",
       "      <td>5.0</td>\n",
       "      <td>sale</td>\n",
       "      <td>No</td>\n",
       "      <td>1.505</td>\n",
       "    </tr>\n",
       "    <tr>\n",
       "      <th>3</th>\n",
       "      <td>102900005115168</td>\n",
       "      <td>Niushou Shengcai</td>\n",
       "      <td>1011010101</td>\n",
       "      <td>Flower/Leaf Vegetables</td>\n",
       "      <td>2020-10-30</td>\n",
       "      <td>12:34</td>\n",
       "      <td>0.382</td>\n",
       "      <td>5.0</td>\n",
       "      <td>sale</td>\n",
       "      <td>No</td>\n",
       "      <td>1.910</td>\n",
       "    </tr>\n",
       "    <tr>\n",
       "      <th>4</th>\n",
       "      <td>102900005115168</td>\n",
       "      <td>Niushou Shengcai</td>\n",
       "      <td>1011010101</td>\n",
       "      <td>Flower/Leaf Vegetables</td>\n",
       "      <td>2020-10-30</td>\n",
       "      <td>13:33</td>\n",
       "      <td>0.261</td>\n",
       "      <td>5.0</td>\n",
       "      <td>sale</td>\n",
       "      <td>No</td>\n",
       "      <td>1.305</td>\n",
       "    </tr>\n",
       "  </tbody>\n",
       "</table>\n",
       "</div>"
      ],
      "text/plain": [
       "         Item Code         Item Name  Category Code           Category_name  \\\n",
       "0  102900005115168  Niushou Shengcai     1011010101  Flower/Leaf Vegetables   \n",
       "1  102900005115168  Niushou Shengcai     1011010101  Flower/Leaf Vegetables   \n",
       "2  102900005115168  Niushou Shengcai     1011010101  Flower/Leaf Vegetables   \n",
       "3  102900005115168  Niushou Shengcai     1011010101  Flower/Leaf Vegetables   \n",
       "4  102900005115168  Niushou Shengcai     1011010101  Flower/Leaf Vegetables   \n",
       "\n",
       "        Date   Time  Quantity Sold  Unit Selling Price Sale or Return  \\\n",
       "0 2020-10-30  10:02          0.743                 5.0           sale   \n",
       "1 2020-10-30  10:48          0.502                 5.0           sale   \n",
       "2 2020-10-30  11:10          0.301                 5.0           sale   \n",
       "3 2020-10-30  12:34          0.382                 5.0           sale   \n",
       "4 2020-10-30  13:33          0.261                 5.0           sale   \n",
       "\n",
       "  Discount  Sales  \n",
       "0       No  3.715  \n",
       "1       No  2.510  \n",
       "2       No  1.505  \n",
       "3       No  1.910  \n",
       "4       No  1.305  "
      ]
     },
     "execution_count": 18,
     "metadata": {},
     "output_type": "execute_result"
    }
   ],
   "source": [
    "df2[\"Sales\"]=df2[\"Quantity Sold\"]* df2[\"Unit Selling Price\"]\n",
    "df2.head()"
   ]
  },
  {
   "cell_type": "code",
   "execution_count": 19,
   "id": "d9a19729",
   "metadata": {},
   "outputs": [],
   "source": [
    "Item_sales=df2.groupby(\"Item Name\",as_index=False)[\"Sales\"].sum().round().sort_values(by=\"Sales\",ascending=False)\n",
    "Item_sales=Item_sales.head(10)"
   ]
  },
  {
   "cell_type": "code",
   "execution_count": 20,
   "id": "b71714ec",
   "metadata": {},
   "outputs": [
    {
     "data": {
      "text/plain": [
       "<function matplotlib.pyplot.show(close=None, block=None)>"
      ]
     },
     "execution_count": 20,
     "metadata": {},
     "output_type": "execute_result"
    },
    {
     "data": {
      "image/png": "[encoded data removed]",
      "text/plain": [
       "<Figure size 720x432 with 1 Axes>"
      ]
     },
     "metadata": {
      "needs_background": "light"
     },
     "output_type": "display_data"
    }
   ],
   "source": [
    "# plt.bar has diff. syntax here due to different column names which is not so in above 2 graphs where only table name is given.\n",
    "plt.figure(figsize=(10,6))\n",
    "colors=[\"red\",\"blue\",\"green\",\"yellow\",\"orange\",\"black\",\"brown\",\"violet\",\"pink\",\"gold\"]\n",
    "ab=plt.bar(x=Item_sales[\"Item Name\"],height=Item_sales[\"Sales\"],color=colors)\n",
    "plt.bar_label(ab, fmt=\"%d\")  # use to lable integer value on particular column\n",
    "plt.xlabel(\"Item Name\")\n",
    "plt.ylabel(\"Sales\")\n",
    "plt.title(\"Top 10 Items acc. to Sales\")\n",
    "plt.xticks(rotation=90)\n",
    "plt.show"
   ]
  },
  {
   "cell_type": "code",
   "execution_count": 21,
   "id": "615d7075",
   "metadata": {},
   "outputs": [],
   "source": [
    "# Create 3 new columns to add month, day, and year. \n",
    "df2['day'] =  df2['Date'].dt.day_name()"
   ]
  },
  {
   "cell_type": "code",
   "execution_count": 22,
   "id": "c26d4c05",
   "metadata": {},
   "outputs": [],
   "source": [
    "# change of datatype to date datatype\n",
    "df2['Date'] = pd.to_datetime(df2['Date'])\n",
    "\n",
    "# %b represents month name and 'dt'is an accessor for datetime properties in pandas.\n",
    "df2['Month'] = df2['Date'].dt.strftime('%b')"
   ]
  },
  {
   "cell_type": "code",
   "execution_count": 23,
   "id": "d1eb1ffe",
   "metadata": {},
   "outputs": [
    {
     "data": {
      "text/html": [
       "<div>\n",
       "<style scoped>\n",
       "    .dataframe tbody tr th:only-of-type {\n",
       "        vertical-align: middle;\n",
       "    }\n",
       "\n",
       "    .dataframe tbody tr th {\n",
       "        vertical-align: top;\n",
       "    }\n",
       "\n",
       "    .dataframe thead th {\n",
       "        text-align: right;\n",
       "    }\n",
       "</style>\n",
       "<table border=\"1\" class=\"dataframe\">\n",
       "  <thead>\n",
       "    <tr style=\"text-align: right;\">\n",
       "      <th></th>\n",
       "      <th>Item Code</th>\n",
       "      <th>Item Name</th>\n",
       "      <th>Category Code</th>\n",
       "      <th>Category_name</th>\n",
       "      <th>Date</th>\n",
       "      <th>Time</th>\n",
       "      <th>Quantity Sold</th>\n",
       "      <th>Unit Selling Price</th>\n",
       "      <th>Sale or Return</th>\n",
       "      <th>Discount</th>\n",
       "      <th>Sales</th>\n",
       "      <th>day</th>\n",
       "      <th>Month</th>\n",
       "      <th>Year</th>\n",
       "    </tr>\n",
       "  </thead>\n",
       "  <tbody>\n",
       "    <tr>\n",
       "      <th>0</th>\n",
       "      <td>102900005115168</td>\n",
       "      <td>Niushou Shengcai</td>\n",
       "      <td>1011010101</td>\n",
       "      <td>Flower/Leaf Vegetables</td>\n",
       "      <td>2020-10-30</td>\n",
       "      <td>10:02</td>\n",
       "      <td>0.743</td>\n",
       "      <td>5.0</td>\n",
       "      <td>sale</td>\n",
       "      <td>No</td>\n",
       "      <td>3.715</td>\n",
       "      <td>Friday</td>\n",
       "      <td>Oct</td>\n",
       "      <td>2020</td>\n",
       "    </tr>\n",
       "    <tr>\n",
       "      <th>1</th>\n",
       "      <td>102900005115168</td>\n",
       "      <td>Niushou Shengcai</td>\n",
       "      <td>1011010101</td>\n",
       "      <td>Flower/Leaf Vegetables</td>\n",
       "      <td>2020-10-30</td>\n",
       "      <td>10:48</td>\n",
       "      <td>0.502</td>\n",
       "      <td>5.0</td>\n",
       "      <td>sale</td>\n",
       "      <td>No</td>\n",
       "      <td>2.510</td>\n",
       "      <td>Friday</td>\n",
       "      <td>Oct</td>\n",
       "      <td>2020</td>\n",
       "    </tr>\n",
       "    <tr>\n",
       "      <th>2</th>\n",
       "      <td>102900005115168</td>\n",
       "      <td>Niushou Shengcai</td>\n",
       "      <td>1011010101</td>\n",
       "      <td>Flower/Leaf Vegetables</td>\n",
       "      <td>2020-10-30</td>\n",
       "      <td>11:10</td>\n",
       "      <td>0.301</td>\n",
       "      <td>5.0</td>\n",
       "      <td>sale</td>\n",
       "      <td>No</td>\n",
       "      <td>1.505</td>\n",
       "      <td>Friday</td>\n",
       "      <td>Oct</td>\n",
       "      <td>2020</td>\n",
       "    </tr>\n",
       "    <tr>\n",
       "      <th>3</th>\n",
       "      <td>102900005115168</td>\n",
       "      <td>Niushou Shengcai</td>\n",
       "      <td>1011010101</td>\n",
       "      <td>Flower/Leaf Vegetables</td>\n",
       "      <td>2020-10-30</td>\n",
       "      <td>12:34</td>\n",
       "      <td>0.382</td>\n",
       "      <td>5.0</td>\n",
       "      <td>sale</td>\n",
       "      <td>No</td>\n",
       "      <td>1.910</td>\n",
       "      <td>Friday</td>\n",
       "      <td>Oct</td>\n",
       "      <td>2020</td>\n",
       "    </tr>\n",
       "    <tr>\n",
       "      <th>4</th>\n",
       "      <td>102900005115168</td>\n",
       "      <td>Niushou Shengcai</td>\n",
       "      <td>1011010101</td>\n",
       "      <td>Flower/Leaf Vegetables</td>\n",
       "      <td>2020-10-30</td>\n",
       "      <td>13:33</td>\n",
       "      <td>0.261</td>\n",
       "      <td>5.0</td>\n",
       "      <td>sale</td>\n",
       "      <td>No</td>\n",
       "      <td>1.305</td>\n",
       "      <td>Friday</td>\n",
       "      <td>Oct</td>\n",
       "      <td>2020</td>\n",
       "    </tr>\n",
       "  </tbody>\n",
       "</table>\n",
       "</div>"
      ],
      "text/plain": [
       "         Item Code         Item Name  Category Code           Category_name  \\\n",
       "0  102900005115168  Niushou Shengcai     1011010101  Flower/Leaf Vegetables   \n",
       "1  102900005115168  Niushou Shengcai     1011010101  Flower/Leaf Vegetables   \n",
       "2  102900005115168  Niushou Shengcai     1011010101  Flower/Leaf Vegetables   \n",
       "3  102900005115168  Niushou Shengcai     1011010101  Flower/Leaf Vegetables   \n",
       "4  102900005115168  Niushou Shengcai     1011010101  Flower/Leaf Vegetables   \n",
       "\n",
       "        Date   Time  Quantity Sold  Unit Selling Price Sale or Return  \\\n",
       "0 2020-10-30  10:02          0.743                 5.0           sale   \n",
       "1 2020-10-30  10:48          0.502                 5.0           sale   \n",
       "2 2020-10-30  11:10          0.301                 5.0           sale   \n",
       "3 2020-10-30  12:34          0.382                 5.0           sale   \n",
       "4 2020-10-30  13:33          0.261                 5.0           sale   \n",
       "\n",
       "  Discount  Sales     day Month  Year  \n",
       "0       No  3.715  Friday   Oct  2020  \n",
       "1       No  2.510  Friday   Oct  2020  \n",
       "2       No  1.505  Friday   Oct  2020  \n",
       "3       No  1.910  Friday   Oct  2020  \n",
       "4       No  1.305  Friday   Oct  2020  "
      ]
     },
     "execution_count": 23,
     "metadata": {},
     "output_type": "execute_result"
    }
   ],
   "source": [
    "# new column of year is added\n",
    "df2[\"Year\"]=df2[\"Date\"].dt.year\n",
    "df2.head()"
   ]
  },
  {
   "cell_type": "code",
   "execution_count": 24,
   "id": "bef759e1",
   "metadata": {},
   "outputs": [
    {
     "data": {
      "text/plain": [
       "Index(['Item Code', 'Item Name', 'Category Code', 'Category_name', 'Date',\n",
       "       'Time', 'Quantity Sold', 'Unit Selling Price', 'Sale or Return',\n",
       "       'Discount', 'Sales', 'day', 'Month', 'Year'],\n",
       "      dtype='object')"
      ]
     },
     "execution_count": 24,
     "metadata": {},
     "output_type": "execute_result"
    }
   ],
   "source": [
    "df2.columns"
   ]
  },
  {
   "cell_type": "code",
   "execution_count": 25,
   "id": "6963db7c",
   "metadata": {},
   "outputs": [
    {
     "data": {
      "text/html": [
       "<div>\n",
       "<style scoped>\n",
       "    .dataframe tbody tr th:only-of-type {\n",
       "        vertical-align: middle;\n",
       "    }\n",
       "\n",
       "    .dataframe tbody tr th {\n",
       "        vertical-align: top;\n",
       "    }\n",
       "\n",
       "    .dataframe thead th {\n",
       "        text-align: right;\n",
       "    }\n",
       "</style>\n",
       "<table border=\"1\" class=\"dataframe\">\n",
       "  <thead>\n",
       "    <tr style=\"text-align: right;\">\n",
       "      <th>day</th>\n",
       "      <th>Monday</th>\n",
       "      <th>Tuesday</th>\n",
       "      <th>Wednesday</th>\n",
       "      <th>Thursday</th>\n",
       "      <th>Friday</th>\n",
       "      <th>Saturday</th>\n",
       "      <th>Sunday</th>\n",
       "    </tr>\n",
       "    <tr>\n",
       "      <th>Category_name</th>\n",
       "      <th></th>\n",
       "      <th></th>\n",
       "      <th></th>\n",
       "      <th></th>\n",
       "      <th></th>\n",
       "      <th></th>\n",
       "      <th></th>\n",
       "    </tr>\n",
       "  </thead>\n",
       "  <tbody>\n",
       "    <tr>\n",
       "      <th>Aquatic Tuberous Vegetables</th>\n",
       "      <td>42973.8732</td>\n",
       "      <td>44020.5507</td>\n",
       "      <td>43281.5516</td>\n",
       "      <td>41225.7367</td>\n",
       "      <td>50459.9747</td>\n",
       "      <td>65356.6985</td>\n",
       "      <td>62771.5153</td>\n",
       "    </tr>\n",
       "    <tr>\n",
       "      <th>Cabbage</th>\n",
       "      <td>47344.3814</td>\n",
       "      <td>46697.0636</td>\n",
       "      <td>48070.2680</td>\n",
       "      <td>46429.6785</td>\n",
       "      <td>52908.8903</td>\n",
       "      <td>67169.9395</td>\n",
       "      <td>67131.4837</td>\n",
       "    </tr>\n",
       "    <tr>\n",
       "      <th>Capsicum</th>\n",
       "      <td>94394.2540</td>\n",
       "      <td>96213.2482</td>\n",
       "      <td>101181.8902</td>\n",
       "      <td>92056.7185</td>\n",
       "      <td>105712.4831</td>\n",
       "      <td>133469.1005</td>\n",
       "      <td>131105.3222</td>\n",
       "    </tr>\n",
       "    <tr>\n",
       "      <th>Edible Mushroom</th>\n",
       "      <td>76021.1047</td>\n",
       "      <td>73440.5009</td>\n",
       "      <td>80577.6897</td>\n",
       "      <td>76252.6117</td>\n",
       "      <td>88623.3751</td>\n",
       "      <td>113660.5496</td>\n",
       "      <td>111021.9625</td>\n",
       "    </tr>\n",
       "    <tr>\n",
       "      <th>Flower/Leaf Vegetables</th>\n",
       "      <td>140057.1214</td>\n",
       "      <td>134989.3209</td>\n",
       "      <td>138500.8543</td>\n",
       "      <td>133819.2865</td>\n",
       "      <td>146034.0329</td>\n",
       "      <td>195735.2354</td>\n",
       "      <td>189933.9502</td>\n",
       "    </tr>\n",
       "    <tr>\n",
       "      <th>Solanum</th>\n",
       "      <td>24408.7902</td>\n",
       "      <td>23455.0107</td>\n",
       "      <td>23884.1815</td>\n",
       "      <td>23609.6108</td>\n",
       "      <td>27217.2082</td>\n",
       "      <td>33868.2806</td>\n",
       "      <td>34681.1766</td>\n",
       "    </tr>\n",
       "  </tbody>\n",
       "</table>\n",
       "</div>"
      ],
      "text/plain": [
       "day                               Monday      Tuesday    Wednesday  \\\n",
       "Category_name                                                        \n",
       "Aquatic Tuberous Vegetables   42973.8732   44020.5507   43281.5516   \n",
       "Cabbage                       47344.3814   46697.0636   48070.2680   \n",
       "Capsicum                      94394.2540   96213.2482  101181.8902   \n",
       "Edible Mushroom               76021.1047   73440.5009   80577.6897   \n",
       "Flower/Leaf Vegetables       140057.1214  134989.3209  138500.8543   \n",
       "Solanum                       24408.7902   23455.0107   23884.1815   \n",
       "\n",
       "day                             Thursday       Friday     Saturday  \\\n",
       "Category_name                                                        \n",
       "Aquatic Tuberous Vegetables   41225.7367   50459.9747   65356.6985   \n",
       "Cabbage                       46429.6785   52908.8903   67169.9395   \n",
       "Capsicum                      92056.7185  105712.4831  133469.1005   \n",
       "Edible Mushroom               76252.6117   88623.3751  113660.5496   \n",
       "Flower/Leaf Vegetables       133819.2865  146034.0329  195735.2354   \n",
       "Solanum                       23609.6108   27217.2082   33868.2806   \n",
       "\n",
       "day                               Sunday  \n",
       "Category_name                             \n",
       "Aquatic Tuberous Vegetables   62771.5153  \n",
       "Cabbage                       67131.4837  \n",
       "Capsicum                     131105.3222  \n",
       "Edible Mushroom              111021.9625  \n",
       "Flower/Leaf Vegetables       189933.9502  \n",
       "Solanum                       34681.1766  "
      ]
     },
     "execution_count": 25,
     "metadata": {},
     "output_type": "execute_result"
    }
   ],
   "source": [
    "# Define the order of the days of the week\n",
    "order_days=[\"Monday\",'Tuesday','Wednesday','Thursday','Friday','Saturday','Sunday']\n",
    "\n",
    "# Set the 'Day' column as a categorical variable with a custom order\n",
    "df2['day']= pd.Categorical(df2['day'],categories=order_days,ordered=True) \n",
    "\n",
    "day=df2.groupby([\"Category_name\",\"day\"])[\"Sales\"].sum().unstack() # unstack gives good tabular representation to understand.`\n",
    "day"
   ]
  },
  {
   "cell_type": "code",
   "execution_count": 52,
   "id": "1411dff8",
   "metadata": {},
   "outputs": [
    {
     "data": {
      "text/plain": [
       "<matplotlib.legend.Legend at 0x1a124f83d30>"
      ]
     },
     "execution_count": 52,
     "metadata": {},
     "output_type": "execute_result"
    },
    {
     "data": {
      "image/png": "[encoded data removed]",
      "text/plain": [
       "<Figure size 720x432 with 1 Axes>"
      ]
     },
     "metadata": {
      "needs_background": "light"
     },
     "output_type": "display_data"
    }
   ],
   "source": [
    "plt.figure(figsize=(10,6))\n",
    "for Category_name in day.index:\n",
    "    plt.plot(day.columns,day.loc[Category_name],label=Category_name)\n",
    "plt.grid(True)\n",
    "plt.title(\"Sales chart acc. to Days\")\n",
    "plt.xlabel(\"Days\")\n",
    "plt.ylabel(\"Sales\")\n",
    "plt.legend()"
   ]
  },
  {
   "cell_type": "code",
   "execution_count": 26,
   "id": "f1701e44",
   "metadata": {},
   "outputs": [
    {
     "data": {
      "text/plain": [
       "Year\n",
       "2020    6.695293e+05\n",
       "2021    1.100363e+06\n",
       "2022    1.036772e+06\n",
       "2023    5.631021e+05\n",
       "Name: Sales, dtype: float64"
      ]
     },
     "execution_count": 26,
     "metadata": {},
     "output_type": "execute_result"
    }
   ],
   "source": [
    "Year_Groupby=df2.groupby(\"Year\")[\"Sales\"].sum()\n",
    "Year_Groupby"
   ]
  },
  {
   "cell_type": "code",
   "execution_count": 27,
   "id": "8d6b838b",
   "metadata": {},
   "outputs": [
    {
     "data": {
      "image/png": "[encoded data removed]",
      "text/plain": [
       "<Figure size 432x432 with 1 Axes>"
      ]
     },
     "metadata": {},
     "output_type": "display_data"
    }
   ],
   "source": [
    "plt.figure(figsize=(6,6))\n",
    "plt.pie(Year_Groupby,autopct=\"%.2f%%\",labels=Year_Groupby.index)  # Here autopct is used to show percentage value year wise.\n",
    "plt.title(\"Pie chart of Year by Sales\")\n",
    "plt.show()"
   ]
  },
  {
   "cell_type": "code",
   "execution_count": 28,
   "id": "ec813557",
   "metadata": {},
   "outputs": [
    {
     "data": {
      "text/plain": [
       "sale      878042\n",
       "return       461\n",
       "Name: Sale or Return, dtype: int64"
      ]
     },
     "execution_count": 28,
     "metadata": {},
     "output_type": "execute_result"
    }
   ],
   "source": [
    "df2[\"Sale or Return\"].value_counts()"
   ]
  },
  {
   "cell_type": "code",
   "execution_count": 29,
   "id": "021e0ca1",
   "metadata": {},
   "outputs": [
    {
     "data": {
      "text/plain": [
       "No     831137\n",
       "Yes     47366\n",
       "Name: Discount, dtype: int64"
      ]
     },
     "execution_count": 29,
     "metadata": {},
     "output_type": "execute_result"
    }
   ],
   "source": [
    "df2[\"Discount\"].value_counts()"
   ]
  },
  {
   "cell_type": "code",
   "execution_count": 30,
   "id": "6185a521",
   "metadata": {},
   "outputs": [
    {
     "data": {
      "text/plain": [
       "Flower/Leaf Vegetables         0.377879\n",
       "Capsicum                       0.236762\n",
       "Edible Mushroom                0.168951\n",
       "Cabbage                        0.098543\n",
       "Aquatic Tuberous Vegetables    0.066758\n",
       "Solanum                        0.051107\n",
       "Name: Category_name, dtype: float64"
      ]
     },
     "execution_count": 30,
     "metadata": {},
     "output_type": "execute_result"
    }
   ],
   "source": [
    "category=df2[\"Category_name\"].value_counts(normalize=True)\n",
    "category"
   ]
  },
  {
   "cell_type": "code",
   "execution_count": 31,
   "id": "4a6ac4ed",
   "metadata": {},
   "outputs": [
    {
     "data": {
      "text/plain": [
       "Text(0.5, 1.0, 'Box plot for Getting OUtliers')"
      ]
     },
     "execution_count": 31,
     "metadata": {},
     "output_type": "execute_result"
    },
    {
     "data": {
      "image/png": "[encoded data removed]",
      "text/plain": [
       "<Figure size 576x432 with 1 Axes>"
      ]
     },
     "metadata": {
      "needs_background": "light"
     },
     "output_type": "display_data"
    }
   ],
   "source": [
    "plt.figure(figsize=(8,6))\n",
    "sns.boxplot(df2['Unit Selling Price'])\n",
    "plt.xlabel(\"Unit Selling price\")\n",
    "plt.title(\"Box plot for Getting OUtliers\")"
   ]
  },
  {
   "cell_type": "code",
   "execution_count": 32,
   "id": "82fc714d",
   "metadata": {},
   "outputs": [
    {
     "data": {
      "text/plain": [
       "count    878503.000000\n",
       "mean          8.917144\n",
       "std           6.311265\n",
       "min           0.100000\n",
       "25%           4.900000\n",
       "50%           7.900000\n",
       "75%          10.800000\n",
       "max         119.900000\n",
       "Name: Unit Selling Price, dtype: float64"
      ]
     },
     "execution_count": 32,
     "metadata": {},
     "output_type": "execute_result"
    }
   ],
   "source": [
    "df2[\"Unit Selling Price\"].describe()"
   ]
  },
  {
   "cell_type": "code",
   "execution_count": 33,
   "id": "44bd9f00",
   "metadata": {},
   "outputs": [
    {
     "name": "stdout",
     "output_type": "stream",
     "text": [
      "Percentile75 10.8\n",
      "Percentile25 4.9\n"
     ]
    }
   ],
   "source": [
    "percentile75 =df2[\"Unit Selling Price\"].quantile(0.75)\n",
    "percentile25 =df2[\"Unit Selling Price\"].quantile(0.25)\n",
    "print(\"Percentile75\",percentile75)\n",
    "print(\"Percentile25\",percentile25)"
   ]
  },
  {
   "cell_type": "code",
   "execution_count": 34,
   "id": "3ad70fb5",
   "metadata": {},
   "outputs": [
    {
     "name": "stdout",
     "output_type": "stream",
     "text": [
      "IQR 5.9\n"
     ]
    }
   ],
   "source": [
    "iqr = percentile75-percentile25\n",
    "print(\"IQR\",iqr)"
   ]
  },
  {
   "cell_type": "code",
   "execution_count": 35,
   "id": "b98f229a",
   "metadata": {},
   "outputs": [
    {
     "name": "stdout",
     "output_type": "stream",
     "text": [
      "Upper Bound 19.650000000000002\n",
      "Lower Bound -3.950000000000001\n"
     ]
    }
   ],
   "source": [
    "upper = percentile75 + 1.5 * iqr\n",
    "lower = percentile25 - 1.5 * iqr\n",
    "print(\"Upper Bound\",upper)\n",
    "print(\"Lower Bound\",lower)"
   ]
  },
  {
   "cell_type": "code",
   "execution_count": 36,
   "id": "a8ff80d3",
   "metadata": {},
   "outputs": [
    {
     "data": {
      "text/plain": [
       "(816623, 14)"
      ]
     },
     "execution_count": 36,
     "metadata": {},
     "output_type": "execute_result"
    }
   ],
   "source": [
    "new_df=df2[(df2[\"Unit Selling Price\"] > lower) & (df2[\"Unit Selling Price\"] < upper)]\n",
    "new_df.shape"
   ]
  },
  {
   "cell_type": "code",
   "execution_count": 37,
   "id": "caa65e77",
   "metadata": {},
   "outputs": [
    {
     "data": {
      "text/plain": [
       "<AxesSubplot:xlabel='Unit Selling Price'>"
      ]
     },
     "execution_count": 37,
     "metadata": {},
     "output_type": "execute_result"
    },
    {
     "data": {
      "image/png": "[encoded data removed]",
      "text/plain": [
       "<Figure size 432x288 with 1 Axes>"
      ]
     },
     "metadata": {
      "needs_background": "light"
     },
     "output_type": "display_data"
    }
   ],
   "source": [
    "# Here, we get rid of Outliers in the dataset usinf IQR method\n",
    "sns.boxplot(new_df[\"Unit Selling Price\"])"
   ]
  },
  {
   "cell_type": "code",
   "execution_count": 38,
   "id": "557a74d6",
   "metadata": {},
   "outputs": [
    {
     "data": {
      "text/html": [
       "<div>\n",
       "<style scoped>\n",
       "    .dataframe tbody tr th:only-of-type {\n",
       "        vertical-align: middle;\n",
       "    }\n",
       "\n",
       "    .dataframe tbody tr th {\n",
       "        vertical-align: top;\n",
       "    }\n",
       "\n",
       "    .dataframe thead th {\n",
       "        text-align: right;\n",
       "    }\n",
       "</style>\n",
       "<table border=\"1\" class=\"dataframe\">\n",
       "  <thead>\n",
       "    <tr style=\"text-align: right;\">\n",
       "      <th>Year</th>\n",
       "      <th>2020</th>\n",
       "      <th>2021</th>\n",
       "      <th>2022</th>\n",
       "      <th>2023</th>\n",
       "    </tr>\n",
       "    <tr>\n",
       "      <th>Category_name</th>\n",
       "      <th></th>\n",
       "      <th></th>\n",
       "      <th></th>\n",
       "      <th></th>\n",
       "    </tr>\n",
       "  </thead>\n",
       "  <tbody>\n",
       "    <tr>\n",
       "      <th>Aquatic Tuberous Vegetables</th>\n",
       "      <td>6199.134</td>\n",
       "      <td>13102.657</td>\n",
       "      <td>15754.053</td>\n",
       "      <td>5525.509</td>\n",
       "    </tr>\n",
       "    <tr>\n",
       "      <th>Cabbage</th>\n",
       "      <td>9431.229</td>\n",
       "      <td>12688.204</td>\n",
       "      <td>14158.126</td>\n",
       "      <td>5488.892</td>\n",
       "    </tr>\n",
       "    <tr>\n",
       "      <th>Capsicum</th>\n",
       "      <td>12186.894</td>\n",
       "      <td>23237.817</td>\n",
       "      <td>34679.850</td>\n",
       "      <td>21484.068</td>\n",
       "    </tr>\n",
       "    <tr>\n",
       "      <th>Edible Mushroom</th>\n",
       "      <td>14654.347</td>\n",
       "      <td>21920.999</td>\n",
       "      <td>23345.937</td>\n",
       "      <td>16165.442</td>\n",
       "    </tr>\n",
       "    <tr>\n",
       "      <th>Flower/Leaf Vegetables</th>\n",
       "      <td>39322.408</td>\n",
       "      <td>58681.699</td>\n",
       "      <td>67105.174</td>\n",
       "      <td>33411.697</td>\n",
       "    </tr>\n",
       "    <tr>\n",
       "      <th>Solanum</th>\n",
       "      <td>4789.987</td>\n",
       "      <td>7795.673</td>\n",
       "      <td>6258.665</td>\n",
       "      <td>3587.457</td>\n",
       "    </tr>\n",
       "  </tbody>\n",
       "</table>\n",
       "</div>"
      ],
      "text/plain": [
       "Year                              2020       2021       2022       2023\n",
       "Category_name                                                          \n",
       "Aquatic Tuberous Vegetables   6199.134  13102.657  15754.053   5525.509\n",
       "Cabbage                       9431.229  12688.204  14158.126   5488.892\n",
       "Capsicum                     12186.894  23237.817  34679.850  21484.068\n",
       "Edible Mushroom              14654.347  21920.999  23345.937  16165.442\n",
       "Flower/Leaf Vegetables       39322.408  58681.699  67105.174  33411.697\n",
       "Solanum                       4789.987   7795.673   6258.665   3587.457"
      ]
     },
     "execution_count": 38,
     "metadata": {},
     "output_type": "execute_result"
    }
   ],
   "source": [
    "# Total \n",
    "df3=df2.groupby([\"Category_name\",\"Year\"])[\"Quantity Sold\"].sum().unstack()\n",
    "df3"
   ]
  },
  {
   "cell_type": "code",
   "execution_count": 39,
   "id": "26d6e866",
   "metadata": {},
   "outputs": [
    {
     "data": {
      "image/png": "[encoded data removed]",
      "text/plain": [
       "<Figure size 720x432 with 1 Axes>"
      ]
     },
     "metadata": {
      "needs_background": "light"
     },
     "output_type": "display_data"
    }
   ],
   "source": [
    "plt.figure(figsize=(10,6))\n",
    "for Category_name in df3.index:\n",
    "    plt.plot(df3.columns,df3.loc[Category_name],label=Category_name)\n",
    "plt.legend()\n",
    "plt.grid(True)\n",
    "plt.show()"
   ]
  },
  {
   "cell_type": "code",
   "execution_count": 40,
   "id": "dadccb25",
   "metadata": {},
   "outputs": [
    {
     "data": {
      "text/html": [
       "<div>\n",
       "<style scoped>\n",
       "    .dataframe tbody tr th:only-of-type {\n",
       "        vertical-align: middle;\n",
       "    }\n",
       "\n",
       "    .dataframe tbody tr th {\n",
       "        vertical-align: top;\n",
       "    }\n",
       "\n",
       "    .dataframe thead th {\n",
       "        text-align: right;\n",
       "    }\n",
       "</style>\n",
       "<table border=\"1\" class=\"dataframe\">\n",
       "  <thead>\n",
       "    <tr style=\"text-align: right;\">\n",
       "      <th>Discount</th>\n",
       "      <th>No</th>\n",
       "      <th>Yes</th>\n",
       "    </tr>\n",
       "    <tr>\n",
       "      <th>Category_name</th>\n",
       "      <th></th>\n",
       "      <th></th>\n",
       "    </tr>\n",
       "  </thead>\n",
       "  <tbody>\n",
       "    <tr>\n",
       "      <th>Aquatic Tuberous Vegetables</th>\n",
       "      <td>3.230183e+05</td>\n",
       "      <td>27071.5779</td>\n",
       "    </tr>\n",
       "    <tr>\n",
       "      <th>Cabbage</th>\n",
       "      <td>3.587776e+05</td>\n",
       "      <td>16974.1503</td>\n",
       "    </tr>\n",
       "    <tr>\n",
       "      <th>Capsicum</th>\n",
       "      <td>7.285410e+05</td>\n",
       "      <td>25592.0490</td>\n",
       "    </tr>\n",
       "    <tr>\n",
       "      <th>Edible Mushroom</th>\n",
       "      <td>5.791614e+05</td>\n",
       "      <td>40436.3553</td>\n",
       "    </tr>\n",
       "    <tr>\n",
       "      <th>Flower/Leaf Vegetables</th>\n",
       "      <td>1.031910e+06</td>\n",
       "      <td>47160.1232</td>\n",
       "    </tr>\n",
       "    <tr>\n",
       "      <th>Solanum</th>\n",
       "      <td>1.872394e+05</td>\n",
       "      <td>3884.8750</td>\n",
       "    </tr>\n",
       "  </tbody>\n",
       "</table>\n",
       "</div>"
      ],
      "text/plain": [
       "Discount                               No         Yes\n",
       "Category_name                                        \n",
       "Aquatic Tuberous Vegetables  3.230183e+05  27071.5779\n",
       "Cabbage                      3.587776e+05  16974.1503\n",
       "Capsicum                     7.285410e+05  25592.0490\n",
       "Edible Mushroom              5.791614e+05  40436.3553\n",
       "Flower/Leaf Vegetables       1.031910e+06  47160.1232\n",
       "Solanum                      1.872394e+05   3884.8750"
      ]
     },
     "execution_count": 40,
     "metadata": {},
     "output_type": "execute_result"
    }
   ],
   "source": [
    "df2=df2.groupby([\"Category_name\",\"Discount\"])[\"Sales\"].sum().unstack()\n",
    "df2"
   ]
  },
  {
   "cell_type": "code",
   "execution_count": 41,
   "id": "a2a54134",
   "metadata": {},
   "outputs": [
    {
     "data": {
      "image/png": "[encoded data removed]",
      "text/plain": [
       "<Figure size 720x432 with 1 Axes>"
      ]
     },
     "metadata": {
      "needs_background": "light"
     },
     "output_type": "display_data"
    }
   ],
   "source": [
    "# Stacked Bar plot which shows discount on categories\n",
    "ax = df2.plot(kind='bar', stacked=True, figsize=(10, 6))"
   ]
  },
  {
   "cell_type": "code",
   "execution_count": 42,
   "id": "b3654266",
   "metadata": {},
   "outputs": [
    {
     "data": {
      "text/html": [
       "<div>\n",
       "<style scoped>\n",
       "    .dataframe tbody tr th:only-of-type {\n",
       "        vertical-align: middle;\n",
       "    }\n",
       "\n",
       "    .dataframe tbody tr th {\n",
       "        vertical-align: top;\n",
       "    }\n",
       "\n",
       "    .dataframe thead th {\n",
       "        text-align: right;\n",
       "    }\n",
       "</style>\n",
       "<table border=\"1\" class=\"dataframe\">\n",
       "  <thead>\n",
       "    <tr style=\"text-align: right;\">\n",
       "      <th>Discount</th>\n",
       "      <th>No</th>\n",
       "      <th>Yes</th>\n",
       "      <th>Percentage of sales with Discount</th>\n",
       "    </tr>\n",
       "    <tr>\n",
       "      <th>Category_name</th>\n",
       "      <th></th>\n",
       "      <th></th>\n",
       "      <th></th>\n",
       "    </tr>\n",
       "  </thead>\n",
       "  <tbody>\n",
       "    <tr>\n",
       "      <th>Aquatic Tuberous Vegetables</th>\n",
       "      <td>3.230183e+05</td>\n",
       "      <td>27071.5779</td>\n",
       "      <td>7.73</td>\n",
       "    </tr>\n",
       "    <tr>\n",
       "      <th>Cabbage</th>\n",
       "      <td>3.587776e+05</td>\n",
       "      <td>16974.1503</td>\n",
       "      <td>4.52</td>\n",
       "    </tr>\n",
       "    <tr>\n",
       "      <th>Capsicum</th>\n",
       "      <td>7.285410e+05</td>\n",
       "      <td>25592.0490</td>\n",
       "      <td>3.39</td>\n",
       "    </tr>\n",
       "    <tr>\n",
       "      <th>Edible Mushroom</th>\n",
       "      <td>5.791614e+05</td>\n",
       "      <td>40436.3553</td>\n",
       "      <td>6.53</td>\n",
       "    </tr>\n",
       "    <tr>\n",
       "      <th>Flower/Leaf Vegetables</th>\n",
       "      <td>1.031910e+06</td>\n",
       "      <td>47160.1232</td>\n",
       "      <td>4.37</td>\n",
       "    </tr>\n",
       "    <tr>\n",
       "      <th>Solanum</th>\n",
       "      <td>1.872394e+05</td>\n",
       "      <td>3884.8750</td>\n",
       "      <td>2.03</td>\n",
       "    </tr>\n",
       "  </tbody>\n",
       "</table>\n",
       "</div>"
      ],
      "text/plain": [
       "Discount                               No         Yes  \\\n",
       "Category_name                                           \n",
       "Aquatic Tuberous Vegetables  3.230183e+05  27071.5779   \n",
       "Cabbage                      3.587776e+05  16974.1503   \n",
       "Capsicum                     7.285410e+05  25592.0490   \n",
       "Edible Mushroom              5.791614e+05  40436.3553   \n",
       "Flower/Leaf Vegetables       1.031910e+06  47160.1232   \n",
       "Solanum                      1.872394e+05   3884.8750   \n",
       "\n",
       "Discount                     Percentage of sales with Discount  \n",
       "Category_name                                                   \n",
       "Aquatic Tuberous Vegetables                               7.73  \n",
       "Cabbage                                                   4.52  \n",
       "Capsicum                                                  3.39  \n",
       "Edible Mushroom                                           6.53  \n",
       "Flower/Leaf Vegetables                                    4.37  \n",
       "Solanum                                                   2.03  "
      ]
     },
     "execution_count": 42,
     "metadata": {},
     "output_type": "execute_result"
    }
   ],
   "source": [
    "df2[\"Percentage of sales with Discount\"] = round((df2[\"Yes\"]/ (df2[\"No\"] + df2[\"Yes\"])) * 100 ,2)\n",
    "df2"
   ]
  },
  {
   "cell_type": "code",
   "execution_count": 43,
   "id": "14b4a282",
   "metadata": {},
   "outputs": [
    {
     "data": {
      "text/html": [
       "<div>\n",
       "<style scoped>\n",
       "    .dataframe tbody tr th:only-of-type {\n",
       "        vertical-align: middle;\n",
       "    }\n",
       "\n",
       "    .dataframe tbody tr th {\n",
       "        vertical-align: top;\n",
       "    }\n",
       "\n",
       "    .dataframe thead th {\n",
       "        text-align: right;\n",
       "    }\n",
       "</style>\n",
       "<table border=\"1\" class=\"dataframe\">\n",
       "  <thead>\n",
       "    <tr style=\"text-align: right;\">\n",
       "      <th>Discount</th>\n",
       "      <th>No</th>\n",
       "      <th>Yes</th>\n",
       "      <th>Percentage of sales with Discount</th>\n",
       "    </tr>\n",
       "    <tr>\n",
       "      <th>Category_name</th>\n",
       "      <th></th>\n",
       "      <th></th>\n",
       "      <th></th>\n",
       "    </tr>\n",
       "  </thead>\n",
       "  <tbody>\n",
       "    <tr>\n",
       "      <th>Aquatic Tuberous Vegetables</th>\n",
       "      <td>323018</td>\n",
       "      <td>27071.5779</td>\n",
       "      <td>7.73</td>\n",
       "    </tr>\n",
       "    <tr>\n",
       "      <th>Cabbage</th>\n",
       "      <td>358777</td>\n",
       "      <td>16974.1503</td>\n",
       "      <td>4.52</td>\n",
       "    </tr>\n",
       "    <tr>\n",
       "      <th>Capsicum</th>\n",
       "      <td>728540</td>\n",
       "      <td>25592.0490</td>\n",
       "      <td>3.39</td>\n",
       "    </tr>\n",
       "    <tr>\n",
       "      <th>Edible Mushroom</th>\n",
       "      <td>579161</td>\n",
       "      <td>40436.3553</td>\n",
       "      <td>6.53</td>\n",
       "    </tr>\n",
       "    <tr>\n",
       "      <th>Flower/Leaf Vegetables</th>\n",
       "      <td>1031909</td>\n",
       "      <td>47160.1232</td>\n",
       "      <td>4.37</td>\n",
       "    </tr>\n",
       "    <tr>\n",
       "      <th>Solanum</th>\n",
       "      <td>187239</td>\n",
       "      <td>3884.8750</td>\n",
       "      <td>2.03</td>\n",
       "    </tr>\n",
       "  </tbody>\n",
       "</table>\n",
       "</div>"
      ],
      "text/plain": [
       "Discount                          No         Yes  \\\n",
       "Category_name                                      \n",
       "Aquatic Tuberous Vegetables   323018  27071.5779   \n",
       "Cabbage                       358777  16974.1503   \n",
       "Capsicum                      728540  25592.0490   \n",
       "Edible Mushroom               579161  40436.3553   \n",
       "Flower/Leaf Vegetables       1031909  47160.1232   \n",
       "Solanum                       187239   3884.8750   \n",
       "\n",
       "Discount                     Percentage of sales with Discount  \n",
       "Category_name                                                   \n",
       "Aquatic Tuberous Vegetables                               7.73  \n",
       "Cabbage                                                   4.52  \n",
       "Capsicum                                                  3.39  \n",
       "Edible Mushroom                                           6.53  \n",
       "Flower/Leaf Vegetables                                    4.37  \n",
       "Solanum                                                   2.03  "
      ]
     },
     "execution_count": 43,
     "metadata": {},
     "output_type": "execute_result"
    }
   ],
   "source": [
    "df2=df2.astype({\"No\":int})\n",
    "df2"
   ]
  },
  {
   "cell_type": "code",
   "execution_count": null,
   "id": "b04f5ac4",
   "metadata": {},
   "outputs": [],
   "source": []
  },
  {
   "cell_type": "code",
   "execution_count": null,
   "id": "42897c98",
   "metadata": {},
   "outputs": [],
   "source": []
  },
  {
   "cell_type": "code",
   "execution_count": 44,
   "id": "4811ac08",
   "metadata": {},
   "outputs": [],
   "source": [
    "# Conclusion :\n",
    "\n",
    "# Got to know from visualisation that sales were on peak for saturdays so Business strategies can work by giving promotions.\n",
    "# Most of the people prefer to purchase flower/leaf vegetables from supermarket.\n",
    "# Top 10 Products are : Wuhu Green Pepper, Broccoli , Xixia Mushroom (1) , Yunnan Shengcai , Net Lotus Root (1) , Eggplant (2) , Paopaojiao (Jingpin) , Yunnan Lettuces , Luosi Pepper , Chinese Cabbage.\n",
    "# Top 10 products by Sales Generation are : Broccoli, , Net Lotus Root (1), Xixia Mushroom (1), Wuhu Green Pepper (1), Yunnan Shengcai, Eggplant (2), Paopaojiao (Jingpin), Luosi Pepper, Yunnan Lettuces, Chinese Cabbage.\n",
    "# The year 2021 has higest sales around 32%.\n",
    "# From 9 lakh products only 461 products are return."
   ]
  },
  {
   "cell_type": "code",
   "execution_count": null,
   "id": "e9488e60",
   "metadata": {},
   "outputs": [],
   "source": []
  }
 ],
 "metadata": {
  "kernelspec": {
   "display_name": "Python 3 (ipykernel)",
   "language": "python",
   "name": "python3"
  },
  "language_info": {
   "codemirror_mode": {
    "name": "ipython",
    "version": 3
   },
   "file_extension": ".py",
   "mimetype": "text/x-python",
   "name": "python",
   "nbconvert_exporter": "python",
   "pygments_lexer": "ipython3",
   "version": "3.9.12"
  }
 },
 "nbformat": 4,
 "nbformat_minor": 5
}
